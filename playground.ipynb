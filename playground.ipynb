{
 "cells": [
  {
   "cell_type": "markdown",
   "id": "38f9c53d",
   "metadata": {},
   "source": [
    "# Set Up"
   ]
  },
  {
   "cell_type": "code",
   "execution_count": 5,
   "id": "6d042922",
   "metadata": {},
   "outputs": [],
   "source": [
    "import pandas as pd\n",
    "# Data comes from https://fbref.com/\n",
    "df = pd.read_csv('data/24_25_EPL.csv')"
   ]
  },
  {
   "cell_type": "code",
   "execution_count": 7,
   "id": "835bf54a",
   "metadata": {},
   "outputs": [
    {
     "data": {
      "text/plain": [
       "Index(['Rk', 'Player', 'Nation', 'Pos', 'Squad', 'Age', 'Born', 'MP', 'Starts',\n",
       "       'Min', '90s', 'Gls', 'Ast', 'G+A', 'G-PK', 'PK', 'PKatt', 'CrdY',\n",
       "       'CrdR', 'xG', 'npxG', 'xAG', 'npxG+xAG', 'PrgC', 'PrgP', 'PrgR',\n",
       "       'Gls per 90', 'Exp gls per 90', 'Scoring'],\n",
       "      dtype='object')"
      ]
     },
     "execution_count": 7,
     "metadata": {},
     "output_type": "execute_result"
    }
   ],
   "source": [
    "df.columns"
   ]
  },
  {
   "cell_type": "code",
   "execution_count": 16,
   "id": "8b598936",
   "metadata": {},
   "outputs": [
    {
     "data": {
      "text/html": [
       "<div>\n",
       "<style scoped>\n",
       "    .dataframe tbody tr th:only-of-type {\n",
       "        vertical-align: middle;\n",
       "    }\n",
       "\n",
       "    .dataframe tbody tr th {\n",
       "        vertical-align: top;\n",
       "    }\n",
       "\n",
       "    .dataframe thead th {\n",
       "        text-align: right;\n",
       "    }\n",
       "</style>\n",
       "<table border=\"1\" class=\"dataframe\">\n",
       "  <thead>\n",
       "    <tr style=\"text-align: right;\">\n",
       "      <th></th>\n",
       "      <th>Player</th>\n",
       "      <th>Squad</th>\n",
       "      <th>Pos</th>\n",
       "      <th>Scoring</th>\n",
       "      <th>Exp ast per 90</th>\n",
       "      <th>Pro Carries per 90</th>\n",
       "      <th>Pro Passes per 90</th>\n",
       "      <th>90s</th>\n",
       "    </tr>\n",
       "  </thead>\n",
       "  <tbody>\n",
       "    <tr>\n",
       "      <th>2</th>\n",
       "      <td>Tyler Adams</td>\n",
       "      <td>Bournemouth</td>\n",
       "      <td>MF</td>\n",
       "      <td>-0.088889</td>\n",
       "      <td>0.050000</td>\n",
       "      <td>0.666667</td>\n",
       "      <td>3.388889</td>\n",
       "      <td>18.0</td>\n",
       "    </tr>\n",
       "    <tr>\n",
       "      <th>3</th>\n",
       "      <td>Tosin Adarabioyo</td>\n",
       "      <td>Chelsea</td>\n",
       "      <td>DF</td>\n",
       "      <td>0.080292</td>\n",
       "      <td>0.014599</td>\n",
       "      <td>0.364964</td>\n",
       "      <td>2.700730</td>\n",
       "      <td>13.7</td>\n",
       "    </tr>\n",
       "  </tbody>\n",
       "</table>\n",
       "</div>"
      ],
      "text/plain": [
       "             Player        Squad Pos   Scoring  Exp ast per 90  \\\n",
       "2       Tyler Adams  Bournemouth  MF -0.088889        0.050000   \n",
       "3  Tosin Adarabioyo      Chelsea  DF  0.080292        0.014599   \n",
       "\n",
       "   Pro Carries per 90  Pro Passes per 90   90s  \n",
       "2            0.666667           3.388889  18.0  \n",
       "3            0.364964           2.700730  13.7  "
      ]
     },
     "execution_count": 16,
     "metadata": {},
     "output_type": "execute_result"
    }
   ],
   "source": [
    "df = df[df['90s'] >= 3] # Had to have played at least 3 games in the 90s\n",
    "df = df[df['Pos'] != 'GK']  # Exclude goalkeepers\n",
    "df['Gls per 90'] = df['Gls'] / df['90s']\n",
    "df['Exp gls per 90'] = df['xG'] / df['90s']\n",
    "df['Scoring'] = (df['Gls per 90']*2) - df['Exp gls per 90'] # This way total goals and efficiency are both considered\n",
    "df['Exp ast per 90'] = df['xAG'] / df['90s']\n",
    "#df['Ast per 90'] = df['Ast'] / df['90s']\n",
    "#df['Cards per 90'] = (df['CrdY'] + df['CrdR']) / df['90s']\n",
    "df['Pro Carries per 90'] = df['PrgC'] / df['90s']\n",
    "df['Pro Passes per 90'] = df['PrgP'] / df['90s']\n",
    "#filtered = df[['Player','Squad','Gls per 90','Ast per 90','Cards per 90','Pro Carries per 90','Pro Passes per 90']]\n",
    "filtered = df[['Player','Squad','Pos','Scoring','Exp ast per 90','Pro Carries per 90','Pro Passes per 90', '90s']]\n",
    "filtered.head(2)"
   ]
  },
  {
   "cell_type": "code",
   "execution_count": null,
   "id": "dccea459",
   "metadata": {},
   "outputs": [
    {
     "data": {
      "text/html": [
       "<div>\n",
       "<style scoped>\n",
       "    .dataframe tbody tr th:only-of-type {\n",
       "        vertical-align: middle;\n",
       "    }\n",
       "\n",
       "    .dataframe tbody tr th {\n",
       "        vertical-align: top;\n",
       "    }\n",
       "\n",
       "    .dataframe thead th {\n",
       "        text-align: right;\n",
       "    }\n",
       "</style>\n",
       "<table border=\"1\" class=\"dataframe\">\n",
       "  <thead>\n",
       "    <tr style=\"text-align: right;\">\n",
       "      <th>Player</th>\n",
       "      <th>Tyler Adams</th>\n",
       "      <th>Tosin Adarabioyo</th>\n",
       "      <th>Simon Adingra</th>\n",
       "      <th>Emmanuel Agbadou</th>\n",
       "      <th>Ola Aina</th>\n",
       "      <th>Rayan Aït-Nouri</th>\n",
       "      <th>Kristoffer Ajer</th>\n",
       "      <th>Manuel Akanji</th>\n",
       "      <th>Nathan Aké</th>\n",
       "      <th>Carlos Alcaraz</th>\n",
       "      <th>...</th>\n",
       "      <th>Nathan Wood-Gordon</th>\n",
       "      <th>Luke Woolfenden</th>\n",
       "      <th>Yehor Yarmoliuk</th>\n",
       "      <th>Ryan Yates</th>\n",
       "      <th>Leny Yoro</th>\n",
       "      <th>Ashley Young</th>\n",
       "      <th>Illia Zabarnyi</th>\n",
       "      <th>Oleksandr Zinchenko</th>\n",
       "      <th>Joshua Zirkzee</th>\n",
       "      <th>Martin Ødegaard</th>\n",
       "    </tr>\n",
       "    <tr>\n",
       "      <th>Player</th>\n",
       "      <th></th>\n",
       "      <th></th>\n",
       "      <th></th>\n",
       "      <th></th>\n",
       "      <th></th>\n",
       "      <th></th>\n",
       "      <th></th>\n",
       "      <th></th>\n",
       "      <th></th>\n",
       "      <th></th>\n",
       "      <th></th>\n",
       "      <th></th>\n",
       "      <th></th>\n",
       "      <th></th>\n",
       "      <th></th>\n",
       "      <th></th>\n",
       "      <th></th>\n",
       "      <th></th>\n",
       "      <th></th>\n",
       "      <th></th>\n",
       "      <th></th>\n",
       "    </tr>\n",
       "  </thead>\n",
       "  <tbody>\n",
       "    <tr>\n",
       "      <th>Tyler Adams</th>\n",
       "      <td>1.000000</td>\n",
       "      <td>0.763445</td>\n",
       "      <td>-0.530508</td>\n",
       "      <td>0.765590</td>\n",
       "      <td>0.374262</td>\n",
       "      <td>-0.219130</td>\n",
       "      <td>0.809926</td>\n",
       "      <td>0.273223</td>\n",
       "      <td>0.314807</td>\n",
       "      <td>-0.510881</td>\n",
       "      <td>...</td>\n",
       "      <td>0.713441</td>\n",
       "      <td>0.676817</td>\n",
       "      <td>0.799819</td>\n",
       "      <td>0.709362</td>\n",
       "      <td>0.695844</td>\n",
       "      <td>0.529752</td>\n",
       "      <td>0.685771</td>\n",
       "      <td>0.212349</td>\n",
       "      <td>0.714642</td>\n",
       "      <td>-0.230059</td>\n",
       "    </tr>\n",
       "    <tr>\n",
       "      <th>Tosin Adarabioyo</th>\n",
       "      <td>0.763445</td>\n",
       "      <td>1.000000</td>\n",
       "      <td>-0.311705</td>\n",
       "      <td>0.945141</td>\n",
       "      <td>0.239924</td>\n",
       "      <td>-0.481008</td>\n",
       "      <td>0.517294</td>\n",
       "      <td>-0.052958</td>\n",
       "      <td>0.219452</td>\n",
       "      <td>-0.570053</td>\n",
       "      <td>...</td>\n",
       "      <td>0.927183</td>\n",
       "      <td>0.911228</td>\n",
       "      <td>0.761521</td>\n",
       "      <td>0.814728</td>\n",
       "      <td>0.656600</td>\n",
       "      <td>0.262801</td>\n",
       "      <td>0.349224</td>\n",
       "      <td>0.092726</td>\n",
       "      <td>0.815101</td>\n",
       "      <td>-0.642425</td>\n",
       "    </tr>\n",
       "  </tbody>\n",
       "</table>\n",
       "<p>2 rows × 396 columns</p>\n",
       "</div>"
      ],
      "text/plain": [
       "Player            Tyler Adams  Tosin Adarabioyo  Simon Adingra  \\\n",
       "Player                                                           \n",
       "Tyler Adams          1.000000          0.763445      -0.530508   \n",
       "Tosin Adarabioyo     0.763445          1.000000      -0.311705   \n",
       "\n",
       "Player            Emmanuel Agbadou  Ola Aina  Rayan Aït-Nouri  \\\n",
       "Player                                                          \n",
       "Tyler Adams               0.765590  0.374262        -0.219130   \n",
       "Tosin Adarabioyo          0.945141  0.239924        -0.481008   \n",
       "\n",
       "Player            Kristoffer Ajer  Manuel Akanji  Nathan Aké  Carlos Alcaraz  \\\n",
       "Player                                                                         \n",
       "Tyler Adams              0.809926       0.273223    0.314807       -0.510881   \n",
       "Tosin Adarabioyo         0.517294      -0.052958    0.219452       -0.570053   \n",
       "\n",
       "Player            ...  Nathan Wood-Gordon  Luke Woolfenden  Yehor Yarmoliuk  \\\n",
       "Player            ...                                                         \n",
       "Tyler Adams       ...            0.713441         0.676817         0.799819   \n",
       "Tosin Adarabioyo  ...            0.927183         0.911228         0.761521   \n",
       "\n",
       "Player            Ryan Yates  Leny Yoro  Ashley Young  Illia Zabarnyi  \\\n",
       "Player                                                                  \n",
       "Tyler Adams         0.709362   0.695844      0.529752        0.685771   \n",
       "Tosin Adarabioyo    0.814728   0.656600      0.262801        0.349224   \n",
       "\n",
       "Player            Oleksandr Zinchenko  Joshua Zirkzee  Martin Ødegaard  \n",
       "Player                                                                  \n",
       "Tyler Adams                  0.212349        0.714642        -0.230059  \n",
       "Tosin Adarabioyo             0.092726        0.815101        -0.642425  \n",
       "\n",
       "[2 rows x 396 columns]"
      ]
     },
     "execution_count": 17,
     "metadata": {},
     "output_type": "execute_result"
    }
   ],
   "source": [
    "from sklearn.preprocessing import StandardScaler\n",
    "from sklearn.metrics.pairwise import cosine_similarity\n",
    "features = filtered[['Scoring','Exp ast per 90','Pro Carries per 90','Pro Passes per 90','90s']]\n",
    "scaler = StandardScaler()\n",
    "normalized_features = scaler.fit_transform(features)\n",
    "similarity_matrix = cosine_similarity(normalized_features)\n",
    "similarity_df = pd.DataFrame(similarity_matrix, index=df['Player'], columns=df['Player'])\n",
    "#similarity_df.to_csv(\"data/similarity_matrix.csv\")\n",
    "similarity_df.head(2)"
   ]
  },
  {
   "cell_type": "code",
   "execution_count": 19,
   "id": "4ca4e3c5",
   "metadata": {},
   "outputs": [
    {
     "data": {
      "text/html": [
       "<div>\n",
       "<style scoped>\n",
       "    .dataframe tbody tr th:only-of-type {\n",
       "        vertical-align: middle;\n",
       "    }\n",
       "\n",
       "    .dataframe tbody tr th {\n",
       "        vertical-align: top;\n",
       "    }\n",
       "\n",
       "    .dataframe thead th {\n",
       "        text-align: right;\n",
       "    }\n",
       "</style>\n",
       "<table border=\"1\" class=\"dataframe\">\n",
       "  <thead>\n",
       "    <tr style=\"text-align: right;\">\n",
       "      <th></th>\n",
       "      <th>Player</th>\n",
       "      <th>Squad</th>\n",
       "      <th>Pos</th>\n",
       "      <th>Scoring</th>\n",
       "      <th>Assisting</th>\n",
       "      <th>Dribbling</th>\n",
       "      <th>Passing</th>\n",
       "      <th>Minutes Played</th>\n",
       "    </tr>\n",
       "  </thead>\n",
       "  <tbody>\n",
       "    <tr>\n",
       "      <th>2</th>\n",
       "      <td>Tyler Adams</td>\n",
       "      <td>Bournemouth</td>\n",
       "      <td>MF</td>\n",
       "      <td>0.574911</td>\n",
       "      <td>0.553261</td>\n",
       "      <td>0.527462</td>\n",
       "      <td>0.647802</td>\n",
       "      <td>0.741935</td>\n",
       "    </tr>\n",
       "    <tr>\n",
       "      <th>3</th>\n",
       "      <td>Tosin Adarabioyo</td>\n",
       "      <td>Chelsea</td>\n",
       "      <td>DF</td>\n",
       "      <td>0.622156</td>\n",
       "      <td>0.515551</td>\n",
       "      <td>0.515034</td>\n",
       "      <td>0.612093</td>\n",
       "      <td>0.672581</td>\n",
       "    </tr>\n",
       "  </tbody>\n",
       "</table>\n",
       "</div>"
      ],
      "text/plain": [
       "             Player        Squad Pos   Scoring  Assisting  Dribbling  \\\n",
       "2       Tyler Adams  Bournemouth  MF  0.574911   0.553261   0.527462   \n",
       "3  Tosin Adarabioyo      Chelsea  DF  0.622156   0.515551   0.515034   \n",
       "\n",
       "    Passing  Minutes Played  \n",
       "2  0.647802        0.741935  \n",
       "3  0.612093        0.672581  "
      ]
     },
     "execution_count": 19,
     "metadata": {},
     "output_type": "execute_result"
    }
   ],
   "source": [
    "from sklearn.preprocessing import MinMaxScaler\n",
    "\n",
    "stat_cols = [\"Scoring\", \"Exp ast per 90\", \"Pro Carries per 90\", \"Pro Passes per 90\", \"90s\"]\n",
    "\n",
    "# Apply min-max normalization for graphing\n",
    "scaler = MinMaxScaler()\n",
    "df_normalized = filtered.copy()\n",
    "df_normalized[stat_cols] = scaler.fit_transform(filtered[stat_cols])\n",
    "# Adjusting scale to be 0.5-1.0 (The graph would look weird if some players had 0 values)\n",
    "df_normalized[stat_cols] = 0.5 + 0.5 * df_normalized[stat_cols]\n",
    "df_normalized.rename(columns={\n",
    "    \"Exp ast per 90\": \"Assisting\",\n",
    "    \"Pro Carries per 90\": \"Dribbling\", # This is a bit misleading, but only data we have available\n",
    "    \"Pro Passes per 90\": \"Passing\", # Also a bit misleading\n",
    "    \"90s\": \"Minutes Played\"\n",
    "}, inplace=True)\n",
    "df_normalized.to_csv(\"data/normalized_stats.csv\", index=False)\n",
    "df_normalized.head(2)"
   ]
  },
  {
   "cell_type": "code",
   "execution_count": 20,
   "id": "510cda59",
   "metadata": {},
   "outputs": [
    {
     "data": {
      "application/vnd.plotly.v1+json": {
       "config": {
        "plotlyServerURL": "https://plot.ly"
       },
       "data": [
        {
         "fill": "toself",
         "fillcolor": "rgba(31, 119, 180, 0.3)",
         "line": {
          "color": "rgba(31, 119, 180, 1)"
         },
         "name": "Tyler Adams",
         "r": [
          0.5749113475177305,
          0.5532608695652174,
          0.5274621212121212,
          0.6478022845531803,
          0.7419354838709677,
          0.5749113475177305
         ],
         "theta": [
          "Scoring",
          "Assisting",
          "Dribbling",
          "Passing",
          "Minutes Played",
          "Scoring"
         ],
         "type": "scatterpolar"
        },
        {
         "fill": "toself",
         "fillcolor": "rgba(255, 127, 14, 0.3)",
         "line": {
          "color": "rgba(255, 127, 14, 1)"
         },
         "name": "Harvey Barnes",
         "r": [
          0.8078415096896598,
          0.7510384934921075,
          0.694158946149392,
          0.7000049582835209,
          0.7048387096774194,
          0.8078415096896598
         ],
         "theta": [
          "Scoring",
          "Assisting",
          "Dribbling",
          "Passing",
          "Minutes Played",
          "Scoring"
         ],
         "type": "scatterpolar"
        }
       ],
       "layout": {
        "polar": {
         "radialaxis": {
          "range": [
           0,
           1
          ],
          "showticklabels": false,
          "visible": true
         }
        },
        "showlegend": true,
        "template": {
         "data": {
          "bar": [
           {
            "error_x": {
             "color": "#2a3f5f"
            },
            "error_y": {
             "color": "#2a3f5f"
            },
            "marker": {
             "line": {
              "color": "#E5ECF6",
              "width": 0.5
             },
             "pattern": {
              "fillmode": "overlay",
              "size": 10,
              "solidity": 0.2
             }
            },
            "type": "bar"
           }
          ],
          "barpolar": [
           {
            "marker": {
             "line": {
              "color": "#E5ECF6",
              "width": 0.5
             },
             "pattern": {
              "fillmode": "overlay",
              "size": 10,
              "solidity": 0.2
             }
            },
            "type": "barpolar"
           }
          ],
          "carpet": [
           {
            "aaxis": {
             "endlinecolor": "#2a3f5f",
             "gridcolor": "white",
             "linecolor": "white",
             "minorgridcolor": "white",
             "startlinecolor": "#2a3f5f"
            },
            "baxis": {
             "endlinecolor": "#2a3f5f",
             "gridcolor": "white",
             "linecolor": "white",
             "minorgridcolor": "white",
             "startlinecolor": "#2a3f5f"
            },
            "type": "carpet"
           }
          ],
          "choropleth": [
           {
            "colorbar": {
             "outlinewidth": 0,
             "ticks": ""
            },
            "type": "choropleth"
           }
          ],
          "contour": [
           {
            "colorbar": {
             "outlinewidth": 0,
             "ticks": ""
            },
            "colorscale": [
             [
              0,
              "#0d0887"
             ],
             [
              0.1111111111111111,
              "#46039f"
             ],
             [
              0.2222222222222222,
              "#7201a8"
             ],
             [
              0.3333333333333333,
              "#9c179e"
             ],
             [
              0.4444444444444444,
              "#bd3786"
             ],
             [
              0.5555555555555556,
              "#d8576b"
             ],
             [
              0.6666666666666666,
              "#ed7953"
             ],
             [
              0.7777777777777778,
              "#fb9f3a"
             ],
             [
              0.8888888888888888,
              "#fdca26"
             ],
             [
              1,
              "#f0f921"
             ]
            ],
            "type": "contour"
           }
          ],
          "contourcarpet": [
           {
            "colorbar": {
             "outlinewidth": 0,
             "ticks": ""
            },
            "type": "contourcarpet"
           }
          ],
          "heatmap": [
           {
            "colorbar": {
             "outlinewidth": 0,
             "ticks": ""
            },
            "colorscale": [
             [
              0,
              "#0d0887"
             ],
             [
              0.1111111111111111,
              "#46039f"
             ],
             [
              0.2222222222222222,
              "#7201a8"
             ],
             [
              0.3333333333333333,
              "#9c179e"
             ],
             [
              0.4444444444444444,
              "#bd3786"
             ],
             [
              0.5555555555555556,
              "#d8576b"
             ],
             [
              0.6666666666666666,
              "#ed7953"
             ],
             [
              0.7777777777777778,
              "#fb9f3a"
             ],
             [
              0.8888888888888888,
              "#fdca26"
             ],
             [
              1,
              "#f0f921"
             ]
            ],
            "type": "heatmap"
           }
          ],
          "histogram": [
           {
            "marker": {
             "pattern": {
              "fillmode": "overlay",
              "size": 10,
              "solidity": 0.2
             }
            },
            "type": "histogram"
           }
          ],
          "histogram2d": [
           {
            "colorbar": {
             "outlinewidth": 0,
             "ticks": ""
            },
            "colorscale": [
             [
              0,
              "#0d0887"
             ],
             [
              0.1111111111111111,
              "#46039f"
             ],
             [
              0.2222222222222222,
              "#7201a8"
             ],
             [
              0.3333333333333333,
              "#9c179e"
             ],
             [
              0.4444444444444444,
              "#bd3786"
             ],
             [
              0.5555555555555556,
              "#d8576b"
             ],
             [
              0.6666666666666666,
              "#ed7953"
             ],
             [
              0.7777777777777778,
              "#fb9f3a"
             ],
             [
              0.8888888888888888,
              "#fdca26"
             ],
             [
              1,
              "#f0f921"
             ]
            ],
            "type": "histogram2d"
           }
          ],
          "histogram2dcontour": [
           {
            "colorbar": {
             "outlinewidth": 0,
             "ticks": ""
            },
            "colorscale": [
             [
              0,
              "#0d0887"
             ],
             [
              0.1111111111111111,
              "#46039f"
             ],
             [
              0.2222222222222222,
              "#7201a8"
             ],
             [
              0.3333333333333333,
              "#9c179e"
             ],
             [
              0.4444444444444444,
              "#bd3786"
             ],
             [
              0.5555555555555556,
              "#d8576b"
             ],
             [
              0.6666666666666666,
              "#ed7953"
             ],
             [
              0.7777777777777778,
              "#fb9f3a"
             ],
             [
              0.8888888888888888,
              "#fdca26"
             ],
             [
              1,
              "#f0f921"
             ]
            ],
            "type": "histogram2dcontour"
           }
          ],
          "mesh3d": [
           {
            "colorbar": {
             "outlinewidth": 0,
             "ticks": ""
            },
            "type": "mesh3d"
           }
          ],
          "parcoords": [
           {
            "line": {
             "colorbar": {
              "outlinewidth": 0,
              "ticks": ""
             }
            },
            "type": "parcoords"
           }
          ],
          "pie": [
           {
            "automargin": true,
            "type": "pie"
           }
          ],
          "scatter": [
           {
            "fillpattern": {
             "fillmode": "overlay",
             "size": 10,
             "solidity": 0.2
            },
            "type": "scatter"
           }
          ],
          "scatter3d": [
           {
            "line": {
             "colorbar": {
              "outlinewidth": 0,
              "ticks": ""
             }
            },
            "marker": {
             "colorbar": {
              "outlinewidth": 0,
              "ticks": ""
             }
            },
            "type": "scatter3d"
           }
          ],
          "scattercarpet": [
           {
            "marker": {
             "colorbar": {
              "outlinewidth": 0,
              "ticks": ""
             }
            },
            "type": "scattercarpet"
           }
          ],
          "scattergeo": [
           {
            "marker": {
             "colorbar": {
              "outlinewidth": 0,
              "ticks": ""
             }
            },
            "type": "scattergeo"
           }
          ],
          "scattergl": [
           {
            "marker": {
             "colorbar": {
              "outlinewidth": 0,
              "ticks": ""
             }
            },
            "type": "scattergl"
           }
          ],
          "scattermap": [
           {
            "marker": {
             "colorbar": {
              "outlinewidth": 0,
              "ticks": ""
             }
            },
            "type": "scattermap"
           }
          ],
          "scattermapbox": [
           {
            "marker": {
             "colorbar": {
              "outlinewidth": 0,
              "ticks": ""
             }
            },
            "type": "scattermapbox"
           }
          ],
          "scatterpolar": [
           {
            "marker": {
             "colorbar": {
              "outlinewidth": 0,
              "ticks": ""
             }
            },
            "type": "scatterpolar"
           }
          ],
          "scatterpolargl": [
           {
            "marker": {
             "colorbar": {
              "outlinewidth": 0,
              "ticks": ""
             }
            },
            "type": "scatterpolargl"
           }
          ],
          "scatterternary": [
           {
            "marker": {
             "colorbar": {
              "outlinewidth": 0,
              "ticks": ""
             }
            },
            "type": "scatterternary"
           }
          ],
          "surface": [
           {
            "colorbar": {
             "outlinewidth": 0,
             "ticks": ""
            },
            "colorscale": [
             [
              0,
              "#0d0887"
             ],
             [
              0.1111111111111111,
              "#46039f"
             ],
             [
              0.2222222222222222,
              "#7201a8"
             ],
             [
              0.3333333333333333,
              "#9c179e"
             ],
             [
              0.4444444444444444,
              "#bd3786"
             ],
             [
              0.5555555555555556,
              "#d8576b"
             ],
             [
              0.6666666666666666,
              "#ed7953"
             ],
             [
              0.7777777777777778,
              "#fb9f3a"
             ],
             [
              0.8888888888888888,
              "#fdca26"
             ],
             [
              1,
              "#f0f921"
             ]
            ],
            "type": "surface"
           }
          ],
          "table": [
           {
            "cells": {
             "fill": {
              "color": "#EBF0F8"
             },
             "line": {
              "color": "white"
             }
            },
            "header": {
             "fill": {
              "color": "#C8D4E3"
             },
             "line": {
              "color": "white"
             }
            },
            "type": "table"
           }
          ]
         },
         "layout": {
          "annotationdefaults": {
           "arrowcolor": "#2a3f5f",
           "arrowhead": 0,
           "arrowwidth": 1
          },
          "autotypenumbers": "strict",
          "coloraxis": {
           "colorbar": {
            "outlinewidth": 0,
            "ticks": ""
           }
          },
          "colorscale": {
           "diverging": [
            [
             0,
             "#8e0152"
            ],
            [
             0.1,
             "#c51b7d"
            ],
            [
             0.2,
             "#de77ae"
            ],
            [
             0.3,
             "#f1b6da"
            ],
            [
             0.4,
             "#fde0ef"
            ],
            [
             0.5,
             "#f7f7f7"
            ],
            [
             0.6,
             "#e6f5d0"
            ],
            [
             0.7,
             "#b8e186"
            ],
            [
             0.8,
             "#7fbc41"
            ],
            [
             0.9,
             "#4d9221"
            ],
            [
             1,
             "#276419"
            ]
           ],
           "sequential": [
            [
             0,
             "#0d0887"
            ],
            [
             0.1111111111111111,
             "#46039f"
            ],
            [
             0.2222222222222222,
             "#7201a8"
            ],
            [
             0.3333333333333333,
             "#9c179e"
            ],
            [
             0.4444444444444444,
             "#bd3786"
            ],
            [
             0.5555555555555556,
             "#d8576b"
            ],
            [
             0.6666666666666666,
             "#ed7953"
            ],
            [
             0.7777777777777778,
             "#fb9f3a"
            ],
            [
             0.8888888888888888,
             "#fdca26"
            ],
            [
             1,
             "#f0f921"
            ]
           ],
           "sequentialminus": [
            [
             0,
             "#0d0887"
            ],
            [
             0.1111111111111111,
             "#46039f"
            ],
            [
             0.2222222222222222,
             "#7201a8"
            ],
            [
             0.3333333333333333,
             "#9c179e"
            ],
            [
             0.4444444444444444,
             "#bd3786"
            ],
            [
             0.5555555555555556,
             "#d8576b"
            ],
            [
             0.6666666666666666,
             "#ed7953"
            ],
            [
             0.7777777777777778,
             "#fb9f3a"
            ],
            [
             0.8888888888888888,
             "#fdca26"
            ],
            [
             1,
             "#f0f921"
            ]
           ]
          },
          "colorway": [
           "#636efa",
           "#EF553B",
           "#00cc96",
           "#ab63fa",
           "#FFA15A",
           "#19d3f3",
           "#FF6692",
           "#B6E880",
           "#FF97FF",
           "#FECB52"
          ],
          "font": {
           "color": "#2a3f5f"
          },
          "geo": {
           "bgcolor": "white",
           "lakecolor": "white",
           "landcolor": "#E5ECF6",
           "showlakes": true,
           "showland": true,
           "subunitcolor": "white"
          },
          "hoverlabel": {
           "align": "left"
          },
          "hovermode": "closest",
          "mapbox": {
           "style": "light"
          },
          "paper_bgcolor": "white",
          "plot_bgcolor": "#E5ECF6",
          "polar": {
           "angularaxis": {
            "gridcolor": "white",
            "linecolor": "white",
            "ticks": ""
           },
           "bgcolor": "#E5ECF6",
           "radialaxis": {
            "gridcolor": "white",
            "linecolor": "white",
            "ticks": ""
           }
          },
          "scene": {
           "xaxis": {
            "backgroundcolor": "#E5ECF6",
            "gridcolor": "white",
            "gridwidth": 2,
            "linecolor": "white",
            "showbackground": true,
            "ticks": "",
            "zerolinecolor": "white"
           },
           "yaxis": {
            "backgroundcolor": "#E5ECF6",
            "gridcolor": "white",
            "gridwidth": 2,
            "linecolor": "white",
            "showbackground": true,
            "ticks": "",
            "zerolinecolor": "white"
           },
           "zaxis": {
            "backgroundcolor": "#E5ECF6",
            "gridcolor": "white",
            "gridwidth": 2,
            "linecolor": "white",
            "showbackground": true,
            "ticks": "",
            "zerolinecolor": "white"
           }
          },
          "shapedefaults": {
           "line": {
            "color": "#2a3f5f"
           }
          },
          "ternary": {
           "aaxis": {
            "gridcolor": "white",
            "linecolor": "white",
            "ticks": ""
           },
           "baxis": {
            "gridcolor": "white",
            "linecolor": "white",
            "ticks": ""
           },
           "bgcolor": "#E5ECF6",
           "caxis": {
            "gridcolor": "white",
            "linecolor": "white",
            "ticks": ""
           }
          },
          "title": {
           "x": 0.05
          },
          "xaxis": {
           "automargin": true,
           "gridcolor": "white",
           "linecolor": "white",
           "ticks": "",
           "title": {
            "standoff": 15
           },
           "zerolinecolor": "white",
           "zerolinewidth": 2
          },
          "yaxis": {
           "automargin": true,
           "gridcolor": "white",
           "linecolor": "white",
           "ticks": "",
           "title": {
            "standoff": 15
           },
           "zerolinecolor": "white",
           "zerolinewidth": 2
          }
         }
        },
        "title": {
         "text": "Tyler Adams vs Harvey Barnes - Attribute Comparison"
        }
       }
      }
     },
     "metadata": {},
     "output_type": "display_data"
    }
   ],
   "source": [
    "import plotly.graph_objects as go\n",
    "\n",
    "player1 = 'Tyler Adams'\n",
    "player2 = 'Harvey Barnes'\n",
    "\n",
    "metrics = [\"Scoring\", \"Assisting\", \"Dribbling\", \"Passing\", \"Minutes Played\"]\n",
    "\n",
    "row1 = df_normalized[df_normalized['Player'] == player1].iloc[0]\n",
    "row2 = df_normalized[df_normalized['Player'] == player2].iloc[0]\n",
    "\n",
    "values1 = [row1[m] for m in metrics] + [row1[metrics[0]]]  # Loop closure\n",
    "values2 = [row2[m] for m in metrics] + [row2[metrics[0]]]  # Loop closure\n",
    "metrics += [metrics[0]]  # Loop closure for labels\n",
    "\n",
    "fig = go.Figure()\n",
    "\n",
    "# Player 1\n",
    "fig.add_trace(go.Scatterpolar(\n",
    "    r=values1,\n",
    "    theta=metrics,\n",
    "    fill='toself',\n",
    "    name=player1,\n",
    "    fillcolor='rgba(31, 119, 180, 0.3)',  # Blue with 30% opacity\n",
    "    line=dict(color='rgba(31, 119, 180, 1)') \n",
    "))\n",
    "\n",
    "# Player 2\n",
    "fig.add_trace(go.Scatterpolar(\n",
    "    r=values2,\n",
    "    theta=metrics,\n",
    "    fill='toself',\n",
    "    name=player2,\n",
    "    fillcolor='rgba(255, 127, 14, 0.3)',  # Orange with 30% opacity\n",
    "    line=dict(color='rgba(255, 127, 14, 1)')\n",
    "))\n",
    "\n",
    "# Layout\n",
    "fig.update_layout(\n",
    "    polar=dict(\n",
    "        radialaxis=dict(\n",
    "            visible=True,\n",
    "            range=[0, 1],\n",
    "            showticklabels=False\n",
    "        )),\n",
    "    showlegend=True,\n",
    "    title=f\"{player1} vs {player2} - Attribute Comparison\"\n",
    ")\n",
    "\n",
    "fig.show()\n"
   ]
  },
  {
   "cell_type": "code",
   "execution_count": null,
   "id": "57b5e2ff",
   "metadata": {},
   "outputs": [],
   "source": []
  }
 ],
 "metadata": {
  "kernelspec": {
   "display_name": ".venv",
   "language": "python",
   "name": "python3"
  },
  "language_info": {
   "codemirror_mode": {
    "name": "ipython",
    "version": 3
   },
   "file_extension": ".py",
   "mimetype": "text/x-python",
   "name": "python",
   "nbconvert_exporter": "python",
   "pygments_lexer": "ipython3",
   "version": "3.10.0"
  }
 },
 "nbformat": 4,
 "nbformat_minor": 5
}
