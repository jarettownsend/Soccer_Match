{
 "cells": [
  {
   "cell_type": "markdown",
   "id": "38f9c53d",
   "metadata": {},
   "source": [
    "# Set Up"
   ]
  },
  {
   "cell_type": "code",
   "execution_count": 1,
   "id": "6d042922",
   "metadata": {},
   "outputs": [],
   "source": [
    "import pandas as pd\n",
    "df = pd.read_csv('data/24_25_EPL.csv')"
   ]
  },
  {
   "cell_type": "code",
   "execution_count": 2,
   "id": "8b598936",
   "metadata": {},
   "outputs": [
    {
     "data": {
      "text/html": [
       "<div>\n",
       "<style scoped>\n",
       "    .dataframe tbody tr th:only-of-type {\n",
       "        vertical-align: middle;\n",
       "    }\n",
       "\n",
       "    .dataframe tbody tr th {\n",
       "        vertical-align: top;\n",
       "    }\n",
       "\n",
       "    .dataframe thead th {\n",
       "        text-align: right;\n",
       "    }\n",
       "</style>\n",
       "<table border=\"1\" class=\"dataframe\">\n",
       "  <thead>\n",
       "    <tr style=\"text-align: right;\">\n",
       "      <th></th>\n",
       "      <th>Player</th>\n",
       "      <th>Squad</th>\n",
       "      <th>Gls per 90</th>\n",
       "      <th>Ast per 90</th>\n",
       "      <th>Cards per 90</th>\n",
       "      <th>Pro Carries per 90</th>\n",
       "      <th>Pro Passes per 90</th>\n",
       "    </tr>\n",
       "  </thead>\n",
       "  <tbody>\n",
       "    <tr>\n",
       "      <th>2</th>\n",
       "      <td>Tyler Adams</td>\n",
       "      <td>Bournemouth</td>\n",
       "      <td>0.000000</td>\n",
       "      <td>0.166667</td>\n",
       "      <td>0.388889</td>\n",
       "      <td>0.666667</td>\n",
       "      <td>3.388889</td>\n",
       "    </tr>\n",
       "    <tr>\n",
       "      <th>3</th>\n",
       "      <td>Tosin Adarabioyo</td>\n",
       "      <td>Chelsea</td>\n",
       "      <td>0.072993</td>\n",
       "      <td>0.072993</td>\n",
       "      <td>0.218978</td>\n",
       "      <td>0.364964</td>\n",
       "      <td>2.700730</td>\n",
       "    </tr>\n",
       "  </tbody>\n",
       "</table>\n",
       "</div>"
      ],
      "text/plain": [
       "             Player        Squad  Gls per 90  Ast per 90  Cards per 90  \\\n",
       "2       Tyler Adams  Bournemouth    0.000000    0.166667      0.388889   \n",
       "3  Tosin Adarabioyo      Chelsea    0.072993    0.072993      0.218978   \n",
       "\n",
       "   Pro Carries per 90  Pro Passes per 90  \n",
       "2            0.666667           3.388889  \n",
       "3            0.364964           2.700730  "
      ]
     },
     "execution_count": 2,
     "metadata": {},
     "output_type": "execute_result"
    }
   ],
   "source": [
    "df = df[df['90s'] >= 3] # Had to have played at least 3 games in the 90s\n",
    "df = df[df['Pos'] != 'GK']  # Exclude goalkeepers\n",
    "df['Gls per 90'] = df['Gls'] / df['90s']\n",
    "df['Ast per 90'] = df['Ast'] / df['90s']\n",
    "df['Cards per 90'] = (df['CrdY'] + df['CrdR']) / df['90s']\n",
    "df['Pro Carries per 90'] = df['PrgC'] / df['90s']\n",
    "df['Pro Passes per 90'] = df['PrgP'] / df['90s']\n",
    "filtered = df[['Player','Squad','Gls per 90','Ast per 90','Cards per 90','Pro Carries per 90','Pro Passes per 90']]\n",
    "filtered.head(2)"
   ]
  },
  {
   "cell_type": "code",
   "execution_count": 3,
   "id": "dccea459",
   "metadata": {},
   "outputs": [
    {
     "data": {
      "text/html": [
       "<div>\n",
       "<style scoped>\n",
       "    .dataframe tbody tr th:only-of-type {\n",
       "        vertical-align: middle;\n",
       "    }\n",
       "\n",
       "    .dataframe tbody tr th {\n",
       "        vertical-align: top;\n",
       "    }\n",
       "\n",
       "    .dataframe thead th {\n",
       "        text-align: right;\n",
       "    }\n",
       "</style>\n",
       "<table border=\"1\" class=\"dataframe\">\n",
       "  <thead>\n",
       "    <tr style=\"text-align: right;\">\n",
       "      <th>Player</th>\n",
       "      <th>Tyler Adams</th>\n",
       "      <th>Tosin Adarabioyo</th>\n",
       "      <th>Simon Adingra</th>\n",
       "      <th>Emmanuel Agbadou</th>\n",
       "      <th>Ola Aina</th>\n",
       "      <th>Rayan Aït-Nouri</th>\n",
       "      <th>Kristoffer Ajer</th>\n",
       "      <th>Manuel Akanji</th>\n",
       "      <th>Nathan Aké</th>\n",
       "      <th>Carlos Alcaraz</th>\n",
       "      <th>...</th>\n",
       "      <th>Nathan Wood-Gordon</th>\n",
       "      <th>Luke Woolfenden</th>\n",
       "      <th>Yehor Yarmoliuk</th>\n",
       "      <th>Ryan Yates</th>\n",
       "      <th>Leny Yoro</th>\n",
       "      <th>Ashley Young</th>\n",
       "      <th>Illia Zabarnyi</th>\n",
       "      <th>Oleksandr Zinchenko</th>\n",
       "      <th>Joshua Zirkzee</th>\n",
       "      <th>Martin Ødegaard</th>\n",
       "    </tr>\n",
       "    <tr>\n",
       "      <th>Player</th>\n",
       "      <th></th>\n",
       "      <th></th>\n",
       "      <th></th>\n",
       "      <th></th>\n",
       "      <th></th>\n",
       "      <th></th>\n",
       "      <th></th>\n",
       "      <th></th>\n",
       "      <th></th>\n",
       "      <th></th>\n",
       "      <th></th>\n",
       "      <th></th>\n",
       "      <th></th>\n",
       "      <th></th>\n",
       "      <th></th>\n",
       "      <th></th>\n",
       "      <th></th>\n",
       "      <th></th>\n",
       "      <th></th>\n",
       "      <th></th>\n",
       "      <th></th>\n",
       "    </tr>\n",
       "  </thead>\n",
       "  <tbody>\n",
       "    <tr>\n",
       "      <th>Tyler Adams</th>\n",
       "      <td>1.000000</td>\n",
       "      <td>0.511849</td>\n",
       "      <td>-0.652460</td>\n",
       "      <td>0.269257</td>\n",
       "      <td>-0.466909</td>\n",
       "      <td>0.303583</td>\n",
       "      <td>0.220099</td>\n",
       "      <td>-0.152319</td>\n",
       "      <td>-0.305789</td>\n",
       "      <td>0.445392</td>\n",
       "      <td>...</td>\n",
       "      <td>0.520668</td>\n",
       "      <td>0.202495</td>\n",
       "      <td>0.535417</td>\n",
       "      <td>0.674669</td>\n",
       "      <td>0.519520</td>\n",
       "      <td>0.845210</td>\n",
       "      <td>0.058011</td>\n",
       "      <td>0.143441</td>\n",
       "      <td>-0.206671</td>\n",
       "      <td>-0.104613</td>\n",
       "    </tr>\n",
       "    <tr>\n",
       "      <th>Tosin Adarabioyo</th>\n",
       "      <td>0.511849</td>\n",
       "      <td>1.000000</td>\n",
       "      <td>-0.152185</td>\n",
       "      <td>0.917814</td>\n",
       "      <td>0.320182</td>\n",
       "      <td>-0.306559</td>\n",
       "      <td>0.455552</td>\n",
       "      <td>-0.236931</td>\n",
       "      <td>-0.084492</td>\n",
       "      <td>-0.444670</td>\n",
       "      <td>...</td>\n",
       "      <td>0.895163</td>\n",
       "      <td>0.855271</td>\n",
       "      <td>0.510111</td>\n",
       "      <td>0.570430</td>\n",
       "      <td>0.247873</td>\n",
       "      <td>0.097632</td>\n",
       "      <td>0.592963</td>\n",
       "      <td>-0.388457</td>\n",
       "      <td>0.696286</td>\n",
       "      <td>-0.644642</td>\n",
       "    </tr>\n",
       "  </tbody>\n",
       "</table>\n",
       "<p>2 rows × 396 columns</p>\n",
       "</div>"
      ],
      "text/plain": [
       "Player            Tyler Adams  Tosin Adarabioyo  Simon Adingra  \\\n",
       "Player                                                           \n",
       "Tyler Adams          1.000000          0.511849      -0.652460   \n",
       "Tosin Adarabioyo     0.511849          1.000000      -0.152185   \n",
       "\n",
       "Player            Emmanuel Agbadou  Ola Aina  Rayan Aït-Nouri  \\\n",
       "Player                                                          \n",
       "Tyler Adams               0.269257 -0.466909         0.303583   \n",
       "Tosin Adarabioyo          0.917814  0.320182        -0.306559   \n",
       "\n",
       "Player            Kristoffer Ajer  Manuel Akanji  Nathan Aké  Carlos Alcaraz  \\\n",
       "Player                                                                         \n",
       "Tyler Adams              0.220099      -0.152319   -0.305789        0.445392   \n",
       "Tosin Adarabioyo         0.455552      -0.236931   -0.084492       -0.444670   \n",
       "\n",
       "Player            ...  Nathan Wood-Gordon  Luke Woolfenden  Yehor Yarmoliuk  \\\n",
       "Player            ...                                                         \n",
       "Tyler Adams       ...            0.520668         0.202495         0.535417   \n",
       "Tosin Adarabioyo  ...            0.895163         0.855271         0.510111   \n",
       "\n",
       "Player            Ryan Yates  Leny Yoro  Ashley Young  Illia Zabarnyi  \\\n",
       "Player                                                                  \n",
       "Tyler Adams         0.674669   0.519520      0.845210        0.058011   \n",
       "Tosin Adarabioyo    0.570430   0.247873      0.097632        0.592963   \n",
       "\n",
       "Player            Oleksandr Zinchenko  Joshua Zirkzee  Martin Ødegaard  \n",
       "Player                                                                  \n",
       "Tyler Adams                  0.143441       -0.206671        -0.104613  \n",
       "Tosin Adarabioyo            -0.388457        0.696286        -0.644642  \n",
       "\n",
       "[2 rows x 396 columns]"
      ]
     },
     "execution_count": 3,
     "metadata": {},
     "output_type": "execute_result"
    }
   ],
   "source": [
    "from sklearn.preprocessing import StandardScaler\n",
    "from sklearn.metrics.pairwise import cosine_similarity\n",
    "features = filtered[[\"Gls per 90\", \"Ast per 90\", \"Cards per 90\", \"Pro Carries per 90\", \"Pro Passes per 90\"]]\n",
    "scaler = StandardScaler()\n",
    "normalized_features = scaler.fit_transform(features)\n",
    "similarity_matrix = cosine_similarity(normalized_features)\n",
    "similarity_df = pd.DataFrame(similarity_matrix, index=df['Player'], columns=df['Player'])\n",
    "# similarity_df.to_csv(\"data/similarity_matrix.csv\")\n",
    "similarity_df.head(2)"
   ]
  },
  {
   "cell_type": "code",
   "execution_count": null,
   "id": "4ca4e3c5",
   "metadata": {},
   "outputs": [
    {
     "data": {
      "text/html": [
       "<div>\n",
       "<style scoped>\n",
       "    .dataframe tbody tr th:only-of-type {\n",
       "        vertical-align: middle;\n",
       "    }\n",
       "\n",
       "    .dataframe tbody tr th {\n",
       "        vertical-align: top;\n",
       "    }\n",
       "\n",
       "    .dataframe thead th {\n",
       "        text-align: right;\n",
       "    }\n",
       "</style>\n",
       "<table border=\"1\" class=\"dataframe\">\n",
       "  <thead>\n",
       "    <tr style=\"text-align: right;\">\n",
       "      <th></th>\n",
       "      <th>Player</th>\n",
       "      <th>Squad</th>\n",
       "      <th>Scoring</th>\n",
       "      <th>Assists</th>\n",
       "      <th>Fouls</th>\n",
       "      <th>Dribbling</th>\n",
       "      <th>Passing</th>\n",
       "    </tr>\n",
       "  </thead>\n",
       "  <tbody>\n",
       "    <tr>\n",
       "      <th>2</th>\n",
       "      <td>Tyler Adams</td>\n",
       "      <td>Bournemouth</td>\n",
       "      <td>0.500000</td>\n",
       "      <td>0.633333</td>\n",
       "      <td>0.643889</td>\n",
       "      <td>0.527462</td>\n",
       "      <td>0.647802</td>\n",
       "    </tr>\n",
       "    <tr>\n",
       "      <th>3</th>\n",
       "      <td>Tosin Adarabioyo</td>\n",
       "      <td>Chelsea</td>\n",
       "      <td>0.536496</td>\n",
       "      <td>0.558394</td>\n",
       "      <td>0.581022</td>\n",
       "      <td>0.515034</td>\n",
       "      <td>0.612093</td>\n",
       "    </tr>\n",
       "  </tbody>\n",
       "</table>\n",
       "</div>"
      ],
      "text/plain": [
       "             Player        Squad   Scoring   Assists     Fouls  Dribbling  \\\n",
       "2       Tyler Adams  Bournemouth  0.500000  0.633333  0.643889   0.527462   \n",
       "3  Tosin Adarabioyo      Chelsea  0.536496  0.558394  0.581022   0.515034   \n",
       "\n",
       "    Passing  \n",
       "2  0.647802  \n",
       "3  0.612093  "
      ]
     },
     "execution_count": 4,
     "metadata": {},
     "output_type": "execute_result"
    }
   ],
   "source": [
    "from sklearn.preprocessing import MinMaxScaler\n",
    "\n",
    "stat_cols = [\"Gls per 90\", \"Ast per 90\", \"Cards per 90\", \"Pro Carries per 90\", \"Pro Passes per 90\"]\n",
    "\n",
    "# Apply min-max normalization for graphing\n",
    "scaler = MinMaxScaler()\n",
    "df_normalized = filtered.copy()\n",
    "df_normalized[stat_cols] = scaler.fit_transform(filtered[stat_cols])\n",
    "# Adjusting scale to be 0.5-1.0 (The graph would look weird if some players had 0 values)\n",
    "df_normalized[stat_cols] = 0.5 + 0.5 * df_normalized[stat_cols]\n",
    "df_normalized.rename(columns={\n",
    "    \"Gls per 90\": \"Scoring\",\n",
    "    \"Ast per 90\": \"Assists\",\n",
    "    \"Cards per 90\": \"Fouls\", # This is a bit misleading, but it's the best we can do with the data\n",
    "    \"Pro Carries per 90\": \"Dribbling\", # Also a bit misleading\n",
    "    \"Pro Passes per 90\": \"Passing\" # Also a bit misleading\n",
    "}, inplace=True)\n",
    "# df_normalized.to_csv(\"data/normalized_stats.csv\", index=False)\n",
    "df_normalized.head(2)"
   ]
  },
  {
   "cell_type": "code",
   "execution_count": 10,
   "id": "510cda59",
   "metadata": {},
   "outputs": [
    {
     "data": {
      "application/vnd.plotly.v1+json": {
       "config": {
        "plotlyServerURL": "https://plot.ly"
       },
       "data": [
        {
         "fill": "toself",
         "fillcolor": "rgba(31, 119, 180, 0.3)",
         "line": {
          "color": "rgba(31, 119, 180, 1)"
         },
         "name": "Tyler Adams",
         "r": [
          0.5,
          0.6333333333333333,
          0.643888888888889,
          0.5274621212121212,
          0.6478022845531803,
          0.5
         ],
         "theta": [
          "Scoring",
          "Assists",
          "Fouls",
          "Dribbling",
          "Passing",
          "Scoring"
         ],
         "type": "scatterpolar"
        },
        {
         "fill": "toself",
         "fillcolor": "rgba(255, 127, 14, 0.3)",
         "line": {
          "color": "rgba(255, 127, 14, 1)"
         },
         "name": "Harvey Barnes",
         "r": [
          0.786624203821656,
          0.7038216560509554,
          0.5,
          0.694158946149392,
          0.7000049582835209,
          0.786624203821656
         ],
         "theta": [
          "Scoring",
          "Assists",
          "Fouls",
          "Dribbling",
          "Passing",
          "Scoring"
         ],
         "type": "scatterpolar"
        }
       ],
       "layout": {
        "polar": {
         "radialaxis": {
          "range": [
           0,
           1
          ],
          "showticklabels": false,
          "visible": true
         }
        },
        "showlegend": true,
        "template": {
         "data": {
          "bar": [
           {
            "error_x": {
             "color": "#2a3f5f"
            },
            "error_y": {
             "color": "#2a3f5f"
            },
            "marker": {
             "line": {
              "color": "#E5ECF6",
              "width": 0.5
             },
             "pattern": {
              "fillmode": "overlay",
              "size": 10,
              "solidity": 0.2
             }
            },
            "type": "bar"
           }
          ],
          "barpolar": [
           {
            "marker": {
             "line": {
              "color": "#E5ECF6",
              "width": 0.5
             },
             "pattern": {
              "fillmode": "overlay",
              "size": 10,
              "solidity": 0.2
             }
            },
            "type": "barpolar"
           }
          ],
          "carpet": [
           {
            "aaxis": {
             "endlinecolor": "#2a3f5f",
             "gridcolor": "white",
             "linecolor": "white",
             "minorgridcolor": "white",
             "startlinecolor": "#2a3f5f"
            },
            "baxis": {
             "endlinecolor": "#2a3f5f",
             "gridcolor": "white",
             "linecolor": "white",
             "minorgridcolor": "white",
             "startlinecolor": "#2a3f5f"
            },
            "type": "carpet"
           }
          ],
          "choropleth": [
           {
            "colorbar": {
             "outlinewidth": 0,
             "ticks": ""
            },
            "type": "choropleth"
           }
          ],
          "contour": [
           {
            "colorbar": {
             "outlinewidth": 0,
             "ticks": ""
            },
            "colorscale": [
             [
              0,
              "#0d0887"
             ],
             [
              0.1111111111111111,
              "#46039f"
             ],
             [
              0.2222222222222222,
              "#7201a8"
             ],
             [
              0.3333333333333333,
              "#9c179e"
             ],
             [
              0.4444444444444444,
              "#bd3786"
             ],
             [
              0.5555555555555556,
              "#d8576b"
             ],
             [
              0.6666666666666666,
              "#ed7953"
             ],
             [
              0.7777777777777778,
              "#fb9f3a"
             ],
             [
              0.8888888888888888,
              "#fdca26"
             ],
             [
              1,
              "#f0f921"
             ]
            ],
            "type": "contour"
           }
          ],
          "contourcarpet": [
           {
            "colorbar": {
             "outlinewidth": 0,
             "ticks": ""
            },
            "type": "contourcarpet"
           }
          ],
          "heatmap": [
           {
            "colorbar": {
             "outlinewidth": 0,
             "ticks": ""
            },
            "colorscale": [
             [
              0,
              "#0d0887"
             ],
             [
              0.1111111111111111,
              "#46039f"
             ],
             [
              0.2222222222222222,
              "#7201a8"
             ],
             [
              0.3333333333333333,
              "#9c179e"
             ],
             [
              0.4444444444444444,
              "#bd3786"
             ],
             [
              0.5555555555555556,
              "#d8576b"
             ],
             [
              0.6666666666666666,
              "#ed7953"
             ],
             [
              0.7777777777777778,
              "#fb9f3a"
             ],
             [
              0.8888888888888888,
              "#fdca26"
             ],
             [
              1,
              "#f0f921"
             ]
            ],
            "type": "heatmap"
           }
          ],
          "histogram": [
           {
            "marker": {
             "pattern": {
              "fillmode": "overlay",
              "size": 10,
              "solidity": 0.2
             }
            },
            "type": "histogram"
           }
          ],
          "histogram2d": [
           {
            "colorbar": {
             "outlinewidth": 0,
             "ticks": ""
            },
            "colorscale": [
             [
              0,
              "#0d0887"
             ],
             [
              0.1111111111111111,
              "#46039f"
             ],
             [
              0.2222222222222222,
              "#7201a8"
             ],
             [
              0.3333333333333333,
              "#9c179e"
             ],
             [
              0.4444444444444444,
              "#bd3786"
             ],
             [
              0.5555555555555556,
              "#d8576b"
             ],
             [
              0.6666666666666666,
              "#ed7953"
             ],
             [
              0.7777777777777778,
              "#fb9f3a"
             ],
             [
              0.8888888888888888,
              "#fdca26"
             ],
             [
              1,
              "#f0f921"
             ]
            ],
            "type": "histogram2d"
           }
          ],
          "histogram2dcontour": [
           {
            "colorbar": {
             "outlinewidth": 0,
             "ticks": ""
            },
            "colorscale": [
             [
              0,
              "#0d0887"
             ],
             [
              0.1111111111111111,
              "#46039f"
             ],
             [
              0.2222222222222222,
              "#7201a8"
             ],
             [
              0.3333333333333333,
              "#9c179e"
             ],
             [
              0.4444444444444444,
              "#bd3786"
             ],
             [
              0.5555555555555556,
              "#d8576b"
             ],
             [
              0.6666666666666666,
              "#ed7953"
             ],
             [
              0.7777777777777778,
              "#fb9f3a"
             ],
             [
              0.8888888888888888,
              "#fdca26"
             ],
             [
              1,
              "#f0f921"
             ]
            ],
            "type": "histogram2dcontour"
           }
          ],
          "mesh3d": [
           {
            "colorbar": {
             "outlinewidth": 0,
             "ticks": ""
            },
            "type": "mesh3d"
           }
          ],
          "parcoords": [
           {
            "line": {
             "colorbar": {
              "outlinewidth": 0,
              "ticks": ""
             }
            },
            "type": "parcoords"
           }
          ],
          "pie": [
           {
            "automargin": true,
            "type": "pie"
           }
          ],
          "scatter": [
           {
            "fillpattern": {
             "fillmode": "overlay",
             "size": 10,
             "solidity": 0.2
            },
            "type": "scatter"
           }
          ],
          "scatter3d": [
           {
            "line": {
             "colorbar": {
              "outlinewidth": 0,
              "ticks": ""
             }
            },
            "marker": {
             "colorbar": {
              "outlinewidth": 0,
              "ticks": ""
             }
            },
            "type": "scatter3d"
           }
          ],
          "scattercarpet": [
           {
            "marker": {
             "colorbar": {
              "outlinewidth": 0,
              "ticks": ""
             }
            },
            "type": "scattercarpet"
           }
          ],
          "scattergeo": [
           {
            "marker": {
             "colorbar": {
              "outlinewidth": 0,
              "ticks": ""
             }
            },
            "type": "scattergeo"
           }
          ],
          "scattergl": [
           {
            "marker": {
             "colorbar": {
              "outlinewidth": 0,
              "ticks": ""
             }
            },
            "type": "scattergl"
           }
          ],
          "scattermap": [
           {
            "marker": {
             "colorbar": {
              "outlinewidth": 0,
              "ticks": ""
             }
            },
            "type": "scattermap"
           }
          ],
          "scattermapbox": [
           {
            "marker": {
             "colorbar": {
              "outlinewidth": 0,
              "ticks": ""
             }
            },
            "type": "scattermapbox"
           }
          ],
          "scatterpolar": [
           {
            "marker": {
             "colorbar": {
              "outlinewidth": 0,
              "ticks": ""
             }
            },
            "type": "scatterpolar"
           }
          ],
          "scatterpolargl": [
           {
            "marker": {
             "colorbar": {
              "outlinewidth": 0,
              "ticks": ""
             }
            },
            "type": "scatterpolargl"
           }
          ],
          "scatterternary": [
           {
            "marker": {
             "colorbar": {
              "outlinewidth": 0,
              "ticks": ""
             }
            },
            "type": "scatterternary"
           }
          ],
          "surface": [
           {
            "colorbar": {
             "outlinewidth": 0,
             "ticks": ""
            },
            "colorscale": [
             [
              0,
              "#0d0887"
             ],
             [
              0.1111111111111111,
              "#46039f"
             ],
             [
              0.2222222222222222,
              "#7201a8"
             ],
             [
              0.3333333333333333,
              "#9c179e"
             ],
             [
              0.4444444444444444,
              "#bd3786"
             ],
             [
              0.5555555555555556,
              "#d8576b"
             ],
             [
              0.6666666666666666,
              "#ed7953"
             ],
             [
              0.7777777777777778,
              "#fb9f3a"
             ],
             [
              0.8888888888888888,
              "#fdca26"
             ],
             [
              1,
              "#f0f921"
             ]
            ],
            "type": "surface"
           }
          ],
          "table": [
           {
            "cells": {
             "fill": {
              "color": "#EBF0F8"
             },
             "line": {
              "color": "white"
             }
            },
            "header": {
             "fill": {
              "color": "#C8D4E3"
             },
             "line": {
              "color": "white"
             }
            },
            "type": "table"
           }
          ]
         },
         "layout": {
          "annotationdefaults": {
           "arrowcolor": "#2a3f5f",
           "arrowhead": 0,
           "arrowwidth": 1
          },
          "autotypenumbers": "strict",
          "coloraxis": {
           "colorbar": {
            "outlinewidth": 0,
            "ticks": ""
           }
          },
          "colorscale": {
           "diverging": [
            [
             0,
             "#8e0152"
            ],
            [
             0.1,
             "#c51b7d"
            ],
            [
             0.2,
             "#de77ae"
            ],
            [
             0.3,
             "#f1b6da"
            ],
            [
             0.4,
             "#fde0ef"
            ],
            [
             0.5,
             "#f7f7f7"
            ],
            [
             0.6,
             "#e6f5d0"
            ],
            [
             0.7,
             "#b8e186"
            ],
            [
             0.8,
             "#7fbc41"
            ],
            [
             0.9,
             "#4d9221"
            ],
            [
             1,
             "#276419"
            ]
           ],
           "sequential": [
            [
             0,
             "#0d0887"
            ],
            [
             0.1111111111111111,
             "#46039f"
            ],
            [
             0.2222222222222222,
             "#7201a8"
            ],
            [
             0.3333333333333333,
             "#9c179e"
            ],
            [
             0.4444444444444444,
             "#bd3786"
            ],
            [
             0.5555555555555556,
             "#d8576b"
            ],
            [
             0.6666666666666666,
             "#ed7953"
            ],
            [
             0.7777777777777778,
             "#fb9f3a"
            ],
            [
             0.8888888888888888,
             "#fdca26"
            ],
            [
             1,
             "#f0f921"
            ]
           ],
           "sequentialminus": [
            [
             0,
             "#0d0887"
            ],
            [
             0.1111111111111111,
             "#46039f"
            ],
            [
             0.2222222222222222,
             "#7201a8"
            ],
            [
             0.3333333333333333,
             "#9c179e"
            ],
            [
             0.4444444444444444,
             "#bd3786"
            ],
            [
             0.5555555555555556,
             "#d8576b"
            ],
            [
             0.6666666666666666,
             "#ed7953"
            ],
            [
             0.7777777777777778,
             "#fb9f3a"
            ],
            [
             0.8888888888888888,
             "#fdca26"
            ],
            [
             1,
             "#f0f921"
            ]
           ]
          },
          "colorway": [
           "#636efa",
           "#EF553B",
           "#00cc96",
           "#ab63fa",
           "#FFA15A",
           "#19d3f3",
           "#FF6692",
           "#B6E880",
           "#FF97FF",
           "#FECB52"
          ],
          "font": {
           "color": "#2a3f5f"
          },
          "geo": {
           "bgcolor": "white",
           "lakecolor": "white",
           "landcolor": "#E5ECF6",
           "showlakes": true,
           "showland": true,
           "subunitcolor": "white"
          },
          "hoverlabel": {
           "align": "left"
          },
          "hovermode": "closest",
          "mapbox": {
           "style": "light"
          },
          "paper_bgcolor": "white",
          "plot_bgcolor": "#E5ECF6",
          "polar": {
           "angularaxis": {
            "gridcolor": "white",
            "linecolor": "white",
            "ticks": ""
           },
           "bgcolor": "#E5ECF6",
           "radialaxis": {
            "gridcolor": "white",
            "linecolor": "white",
            "ticks": ""
           }
          },
          "scene": {
           "xaxis": {
            "backgroundcolor": "#E5ECF6",
            "gridcolor": "white",
            "gridwidth": 2,
            "linecolor": "white",
            "showbackground": true,
            "ticks": "",
            "zerolinecolor": "white"
           },
           "yaxis": {
            "backgroundcolor": "#E5ECF6",
            "gridcolor": "white",
            "gridwidth": 2,
            "linecolor": "white",
            "showbackground": true,
            "ticks": "",
            "zerolinecolor": "white"
           },
           "zaxis": {
            "backgroundcolor": "#E5ECF6",
            "gridcolor": "white",
            "gridwidth": 2,
            "linecolor": "white",
            "showbackground": true,
            "ticks": "",
            "zerolinecolor": "white"
           }
          },
          "shapedefaults": {
           "line": {
            "color": "#2a3f5f"
           }
          },
          "ternary": {
           "aaxis": {
            "gridcolor": "white",
            "linecolor": "white",
            "ticks": ""
           },
           "baxis": {
            "gridcolor": "white",
            "linecolor": "white",
            "ticks": ""
           },
           "bgcolor": "#E5ECF6",
           "caxis": {
            "gridcolor": "white",
            "linecolor": "white",
            "ticks": ""
           }
          },
          "title": {
           "x": 0.05
          },
          "xaxis": {
           "automargin": true,
           "gridcolor": "white",
           "linecolor": "white",
           "ticks": "",
           "title": {
            "standoff": 15
           },
           "zerolinecolor": "white",
           "zerolinewidth": 2
          },
          "yaxis": {
           "automargin": true,
           "gridcolor": "white",
           "linecolor": "white",
           "ticks": "",
           "title": {
            "standoff": 15
           },
           "zerolinecolor": "white",
           "zerolinewidth": 2
          }
         }
        },
        "title": {
         "text": "Tyler Adams vs Harvey Barnes - Attribute Comparison"
        }
       }
      }
     },
     "metadata": {},
     "output_type": "display_data"
    }
   ],
   "source": [
    "import plotly.graph_objects as go\n",
    "\n",
    "# Select the players\n",
    "player1 = 'Tyler Adams'\n",
    "player2 = 'Harvey Barnes'\n",
    "\n",
    "# Metrics to plot\n",
    "metrics = [\"Scoring\", \"Assists\", \"Fouls\", \"Dribbling\", \"Passing\"]\n",
    "\n",
    "# Get their normalized values\n",
    "row1 = df_normalized[df_normalized['Player'] == player1].iloc[0]\n",
    "row2 = df_normalized[df_normalized['Player'] == player2].iloc[0]\n",
    "\n",
    "values1 = [row1[m] for m in metrics] + [row1[metrics[0]]]  # Loop closure\n",
    "values2 = [row2[m] for m in metrics] + [row2[metrics[0]]]  # Loop closure\n",
    "metrics += [metrics[0]]  # Loop closure for labels\n",
    "\n",
    "# Create the figure\n",
    "fig = go.Figure()\n",
    "\n",
    "# Player 1\n",
    "fig.add_trace(go.Scatterpolar(\n",
    "    r=values1,\n",
    "    theta=metrics,\n",
    "    fill='toself',\n",
    "    name=player1,\n",
    "    fillcolor='rgba(31, 119, 180, 0.3)',  # Blue with 30% opacity\n",
    "    line=dict(color='rgba(31, 119, 180, 1)')  # Solid line\n",
    "))\n",
    "\n",
    "# Player 2\n",
    "fig.add_trace(go.Scatterpolar(\n",
    "    r=values2,\n",
    "    theta=metrics,\n",
    "    fill='toself',\n",
    "    name=player2,\n",
    "    fillcolor='rgba(255, 127, 14, 0.3)',  # Orange with 30% opacity\n",
    "    line=dict(color='rgba(255, 127, 14, 1)')  # Solid line\n",
    "))\n",
    "\n",
    "# Layout\n",
    "fig.update_layout(\n",
    "    polar=dict(\n",
    "        radialaxis=dict(\n",
    "            visible=True,\n",
    "            range=[0, 1],\n",
    "            showticklabels=False\n",
    "        )),\n",
    "    showlegend=True,\n",
    "    title=f\"{player1} vs {player2} - Attribute Comparison\"\n",
    ")\n",
    "\n",
    "fig.show()\n"
   ]
  },
  {
   "cell_type": "code",
   "execution_count": null,
   "id": "57b5e2ff",
   "metadata": {},
   "outputs": [],
   "source": []
  }
 ],
 "metadata": {
  "kernelspec": {
   "display_name": ".venv",
   "language": "python",
   "name": "python3"
  },
  "language_info": {
   "codemirror_mode": {
    "name": "ipython",
    "version": 3
   },
   "file_extension": ".py",
   "mimetype": "text/x-python",
   "name": "python",
   "nbconvert_exporter": "python",
   "pygments_lexer": "ipython3",
   "version": "3.10.0"
  }
 },
 "nbformat": 4,
 "nbformat_minor": 5
}
